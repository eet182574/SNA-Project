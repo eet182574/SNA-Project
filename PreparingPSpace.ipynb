{
 "cells": [
  {
   "cell_type": "markdown",
   "metadata": {},
   "source": [
    "# Program to generate P space topology"
   ]
  },
  {
   "cell_type": "markdown",
   "metadata": {},
   "source": [
    "Read BasicTable Excel File"
   ]
  },
  {
   "cell_type": "code",
   "execution_count": 1,
   "metadata": {},
   "outputs": [],
   "source": [
    "import xlrd \n",
    "loc = (\"E:\\Sem-3\\SNA\\Project\\\\BasicTable.xls\") \n",
    "\n",
    "wb = xlrd.open_workbook(loc) \n",
    "sheet = wb.sheet_by_index(0) \n",
    "  \n",
    "# For row 0 and column 0 \n",
    "#print(sheet.cell_value(0, 0) )"
   ]
  },
  {
   "cell_type": "markdown",
   "metadata": {},
   "source": [
    "Identify number of rows"
   ]
  },
  {
   "cell_type": "code",
   "execution_count": 2,
   "metadata": {},
   "outputs": [
    {
     "name": "stdout",
     "output_type": "stream",
     "text": [
      "Number of Rows are : 14960\n"
     ]
    }
   ],
   "source": [
    "NumberOfRows = sheet.nrows\n",
    "print('Number of Rows are : ' + str(NumberOfRows))"
   ]
  },
  {
   "cell_type": "markdown",
   "metadata": {},
   "source": [
    "Look for unique bus numbers"
   ]
  },
  {
   "cell_type": "code",
   "execution_count": 3,
   "metadata": {},
   "outputs": [
    {
     "name": "stdout",
     "output_type": "stream",
     "text": [
      "1860\n"
     ]
    }
   ],
   "source": [
    "BusStops = []\n",
    "for i in range(NumberOfRows-1):\n",
    "    value = sheet.cell_value(i+1,1)\n",
    "    if value not in BusStops:\n",
    "        BusStops.append(value)\n",
    "#print(BusStops)\n",
    "print(len(BusStops))"
   ]
  },
  {
   "cell_type": "markdown",
   "metadata": {},
   "source": [
    "Collect all bus route numbers in which Unique bus stop appears"
   ]
  },
  {
   "cell_type": "code",
   "execution_count": 4,
   "metadata": {},
   "outputs": [],
   "source": [
    "BusStopsDict = {}\n",
    "for i in range(len(BusStops)):\n",
    "    temp = []\n",
    "    #print (BusStops[i])\n",
    "    for j in range(NumberOfRows-1):\n",
    "        value = sheet.cell_value(j+1,1)\n",
    "        if value == BusStops[i]:\n",
    "            #print(j+1+1,sheet.cell_value(j+1,0))\n",
    "            temp.append(sheet.cell_value(j+1,0))\n",
    "    BusStopsDict[BusStops[i]]=temp"
   ]
  },
  {
   "cell_type": "markdown",
   "metadata": {},
   "source": [
    "Collect all bus stops in which Unique bus route appears"
   ]
  },
  {
   "cell_type": "code",
   "execution_count": 5,
   "metadata": {},
   "outputs": [],
   "source": [
    "BusRoutesDict = {}\n",
    "temp = []\n",
    "for i in range(NumberOfRows-1):\n",
    "    value1 = sheet.cell_value(i+1,0)\n",
    "    #print(i,value1,sheet.cell_value(i+1,1))\n",
    "    if value1 in BusRoutesDict:\n",
    "        #print(\"Yes\")\n",
    "        temp = BusRoutesDict[value1] \n",
    "        temp.append(sheet.cell_value(i+1,1))\n",
    "        BusRoutesDict[value1] = temp\n",
    "    else:\n",
    "        #print(\"No\")\n",
    "        BusRoutesDict[value1] = [sheet.cell_value(i+1,1)]    "
   ]
  },
  {
   "cell_type": "markdown",
   "metadata": {},
   "source": [
    "Prepare an excel file where adjaceny matrix for p space will be stored"
   ]
  },
  {
   "cell_type": "code",
   "execution_count": 21,
   "metadata": {},
   "outputs": [
    {
     "data": {
      "text/plain": [
       "1860"
      ]
     },
     "execution_count": 21,
     "metadata": {},
     "output_type": "execute_result"
    }
   ],
   "source": [
    "len(BusStops)"
   ]
  },
  {
   "cell_type": "code",
   "execution_count": 71,
   "metadata": {},
   "outputs": [],
   "source": [
    "import xlsxwriter "
   ]
  },
  {
   "cell_type": "code",
   "execution_count": 72,
   "metadata": {},
   "outputs": [],
   "source": [
    "workbook = xlsxwriter.Workbook('E:\\Sem-3\\SNA\\Project\\PSpaceTable.xlsx')\n",
    "worksheet = workbook.add_worksheet() "
   ]
  },
  {
   "cell_type": "code",
   "execution_count": 73,
   "metadata": {},
   "outputs": [],
   "source": [
    "for i in range(len(BusStops)):\n",
    "    worksheet.write(0,i+1,BusStops[i]) \n",
    "    worksheet.write(i+1,0,BusStops[i]) "
   ]
  },
  {
   "cell_type": "markdown",
   "metadata": {},
   "source": [
    "Fill zeros in matrix"
   ]
  },
  {
   "cell_type": "code",
   "execution_count": 74,
   "metadata": {},
   "outputs": [],
   "source": [
    "#for i in range(NumberOfRows-1):\n",
    "#    for j in range(len(BusStops)):\n",
    " #    worksheet.write(i+1,j+1,i+1,0) "
   ]
  },
  {
   "cell_type": "markdown",
   "metadata": {},
   "source": [
    "Write '1' if there is an edge between nodes else not filled"
   ]
  },
  {
   "cell_type": "code",
   "execution_count": 75,
   "metadata": {},
   "outputs": [],
   "source": [
    "for i in range(len(BusStops)):\n",
    "    #print(BusStops[i])\n",
    "    ListOfBusRoutes = BusStopsDict[BusStops[i]]\n",
    "    for RouteNumber in ListOfBusRoutes:\n",
    "        temp = BusRoutesDict[RouteNumber]\n",
    "        for name in temp:\n",
    "            #print(name)\n",
    "            ind = BusStops.index(name)\n",
    "            worksheet.write(i+1,ind + 1,1) \n",
    "            #print(ind+1)\n",
    "    #print(BusStops[i])"
   ]
  },
  {
   "cell_type": "code",
   "execution_count": 76,
   "metadata": {},
   "outputs": [],
   "source": [
    "workbook.close()"
   ]
  },
  {
   "cell_type": "code",
   "execution_count": null,
   "metadata": {},
   "outputs": [],
   "source": []
  },
  {
   "cell_type": "code",
   "execution_count": null,
   "metadata": {},
   "outputs": [],
   "source": []
  }
 ],
 "metadata": {
  "kernelspec": {
   "display_name": "Python 3",
   "language": "python",
   "name": "python3"
  },
  "language_info": {
   "codemirror_mode": {
    "name": "ipython",
    "version": 3
   },
   "file_extension": ".py",
   "mimetype": "text/x-python",
   "name": "python",
   "nbconvert_exporter": "python",
   "pygments_lexer": "ipython3",
   "version": "3.6.5"
  }
 },
 "nbformat": 4,
 "nbformat_minor": 2
}
