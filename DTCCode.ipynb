{
 "cells": [
  {
   "cell_type": "markdown",
   "metadata": {},
   "source": [
    "Read all files in directory and store file names in OnlyFiles list."
   ]
  },
  {
   "cell_type": "code",
   "execution_count": 10,
   "metadata": {},
   "outputs": [],
   "source": [
    "mypath = \"E:\\Sem-3\\SNA\\Project\\DTCPages\"\n",
    "from os import listdir\n",
    "from os.path import isfile, join\n",
    "OnlyFiles = [f for f in listdir(mypath) if isfile(join(mypath, f))]"
   ]
  },
  {
   "cell_type": "markdown",
   "metadata": {},
   "source": [
    "Open an excel file in which we have to populate the records"
   ]
  },
  {
   "cell_type": "code",
   "execution_count": 11,
   "metadata": {},
   "outputs": [],
   "source": [
    "import xlwt\n",
    "from xlwt import Workbook\n",
    "wb = Workbook()\n",
    "sheet1 = wb.add_sheet('Sheet 1');\n",
    "sheet1.write(0,0,'RouteNumber') \n",
    "sheet1.write(0,1,'Source') \n",
    "sheet1.write(0,2,'Target') \n",
    "sheet1.write(0,3,'SourceLong')\n",
    "sheet1.write(0,4,'SourceLat') \n",
    "sheet1.write(0,5,'TargetLong') \n",
    "sheet1.write(0,6,'TargetLat') \n",
    "sheet1.write(0,7,'TotalStations') "
   ]
  },
  {
   "cell_type": "markdown",
   "metadata": {},
   "source": [
    "Read file one by one, extract records and store or populate them in excel file"
   ]
  },
  {
   "cell_type": "code",
   "execution_count": 12,
   "metadata": {},
   "outputs": [],
   "source": [
    "RowIndex = 1\n",
    "Cols = [3,4,1]\n",
    "ColIndex = 0;\n",
    "for name in OnlyFiles:\n",
    "\n",
    "    str = \"E:\\Sem-3\\SNA\\Project\\DTCPages\\\\\" + name\n",
    "    f = open(str)\n",
    "    FlagBusStops = 0\n",
    "    FlagCoordinates = 0\n",
    "    #sheet1.write(RowIndex,0,name)\n",
    "    for line in f:\n",
    "        \n",
    "        temp = line.strip()\n",
    "        \n",
    "        if temp[0:13] == \"Total Stops :\":\n",
    "            TotalStops = int(temp[14:])\n",
    "            sheet1.write(RowIndex,7,TotalStops)\n",
    "            #print(TotalStops)\n",
    "        \n",
    "        if line.strip() ==  \"bus_stops_geojson.push({\":\n",
    "            FlagBusStops = 1\n",
    "            FlagCoordinates = 0\n",
    "            \n",
    "        if line.strip() == \"lat = null;\":\n",
    "            FlagBusStops = 0\n",
    "            \n",
    "        if FlagBusStops == 1:\n",
    "            FlagCoordinates += 1\n",
    "            if ((FlagCoordinates >= 6) and (FlagCoordinates <= 7)):\n",
    "                temp = line.strip()\n",
    "                temp = temp.replace(',','')\n",
    "                sheet1.write(RowIndex,Cols[ColIndex],float(temp))\n",
    "                ColIndex += 1\n",
    "                ColIndex = ColIndex % 3\n",
    "                          \n",
    "            if FlagCoordinates == 11:\n",
    "                TotalStops -= 1\n",
    "                BusStop = line.strip()\n",
    "                sheet1.write(RowIndex,int(Cols[ColIndex]),BusStop[10:-2])\n",
    "                ColIndex += 1\n",
    "                ColIndex = ColIndex % 3        \n",
    "                RouteName = name.split('.')\n",
    "                sheet1.write(RowIndex,0,RouteName[0])\n",
    "                RowIndex += 1\n",
    "                \n",
    "            \n",
    "            \n",
    "                \n",
    "    f.close()"
   ]
  },
  {
   "cell_type": "markdown",
   "metadata": {},
   "source": [
    "Save excel file"
   ]
  },
  {
   "cell_type": "code",
   "execution_count": 13,
   "metadata": {},
   "outputs": [],
   "source": [
    "wb.save('E:\\Sem-3\\SNA\\Project\\BasicTable.xls')"
   ]
  },
  {
   "cell_type": "markdown",
   "metadata": {},
   "source": [
    "Following code is for testing"
   ]
  },
  {
   "cell_type": "code",
   "execution_count": 9,
   "metadata": {},
   "outputs": [
    {
     "name": "stdout",
     "output_type": "stream",
     "text": [
      "16\n",
      "77.224\n",
      "28.660\n",
      "\"title\": \"Old Delhi Railway Station\",\n",
      "77.221\n",
      "28.666\n",
      "\"title\": \"Mori Gate\",\n",
      "77.20918099999994\n",
      "28.666948\n",
      "\"title\": \"Ice Factory\",\n",
      "77.201\n",
      "28.677\n",
      "\"title\": \"Malka Ganj\",\n",
      "77.193\n",
      "28.688\n",
      "\"title\": \"R.P. Bagh\",\n",
      "77.18307900000002\n",
      "28.701728\n",
      "\"title\": \"Bara Bagh\",\n",
      "77.16724799999997\n",
      "28.702757\n",
      "\"title\": \"Ashok Vihar X-ing\",\n",
      "77.151\n",
      "28.694\n",
      "\"title\": \"Wazirpur Depot\",\n",
      "77.134\n",
      "28.701\n",
      "\"title\": \"Pitam Pura J.D. Block\",\n",
      "77.12491699629504\n",
      "28.70818562475836\n",
      "\"title\": \"Rohini Sector 7,8,9 X-ing\",\n",
      "77.09808121753554\n",
      "28.72748795528762\n",
      "\"title\": \"Rohini Sector 24 Nallah / Rohini Sector 24 Gas Plant\",\n",
      "77.07811980262454\n",
      "28.721235703563952\n",
      "\"title\": \"Rohini Sector 23\",\n",
      "77.06650123778991\n",
      "28.7091057279268\n",
      "\"title\": \"Rohini Sector 20 JJ Colony\",\n",
      "77.059\n",
      "28.714\n",
      "\"title\": \"Rohini Sector 22 (Lakhi Ram Park)\",\n"
     ]
    }
   ],
   "source": [
    "RowIndex = 1\n",
    "Cols = [3,4,1]\n",
    "ColIndex = 0;\n",
    "OnlyFiles = ['102.txt']\n",
    "for name in OnlyFiles:\n",
    "\n",
    "    str = \"E:\\Sem-3\\SNA\\Project\\DTCPages\\\\\" + name\n",
    "    f = open(str)\n",
    "    FlagBusStops = 0\n",
    "    FlagCoordinates = 0\n",
    "    #sheet1.write(RowIndex,0,name)\n",
    "    for line in f:\n",
    "        \n",
    "        temp = line.strip()\n",
    "        \n",
    "        if temp[0:13] == \"Total Stops :\":\n",
    "            TotalStops = int(temp[14:])\n",
    "            sheet1.write(RowIndex,7,TotalStops)\n",
    "            print(TotalStops)\n",
    "        \n",
    "        if line.strip() ==  \"bus_stops_geojson.push({\":\n",
    "            FlagBusStops = 1\n",
    "            FlagCoordinates = 0\n",
    "            \n",
    "        if line.strip() == \"lat = null;\":\n",
    "            FlagBusStops = 0\n",
    "            \n",
    "        if FlagBusStops == 1:\n",
    "            FlagCoordinates += 1\n",
    "            if ((FlagCoordinates >= 6) and (FlagCoordinates <= 7)):\n",
    "                temp = line.strip()\n",
    "                temp = temp.replace(',','')\n",
    "                sheet1.write(RowIndex,Cols[ColIndex],float(temp))\n",
    "                print(temp)\n",
    "                ColIndex += 1\n",
    "                ColIndex = ColIndex % 3\n",
    "                          \n",
    "            if FlagCoordinates == 11:\n",
    "                TotalStops -= 1\n",
    "                BusStop = line.strip()\n",
    "                sheet1.write(RowIndex,int(Cols[ColIndex]),BusStop[10:-2])\n",
    "                ColIndex += 1\n",
    "                ColIndex = ColIndex % 3        \n",
    "                RouteName = name.split('.')\n",
    "                sheet1.write(RowIndex,0,RouteName[0])\n",
    "                RowIndex += 1\n",
    "                print(BusStop)\n",
    "            \n",
    "            \n",
    "                \n",
    "    f.close()"
   ]
  },
  {
   "cell_type": "code",
   "execution_count": null,
   "metadata": {
    "scrolled": true
   },
   "outputs": [],
   "source": []
  },
  {
   "cell_type": "code",
   "execution_count": 47,
   "metadata": {},
   "outputs": [],
   "source": [
    "t = [1,2,3,4]"
   ]
  },
  {
   "cell_type": "code",
   "execution_count": 51,
   "metadata": {},
   "outputs": [
    {
     "data": {
      "text/plain": [
       "int"
      ]
     },
     "execution_count": 51,
     "metadata": {},
     "output_type": "execute_result"
    }
   ],
   "source": [
    "type(int(t[0]))"
   ]
  },
  {
   "cell_type": "code",
   "execution_count": 111,
   "metadata": {},
   "outputs": [],
   "source": [
    "t = name.split('.')"
   ]
  },
  {
   "cell_type": "raw",
   "metadata": {},
   "source": [
    "t[0]"
   ]
  },
  {
   "cell_type": "code",
   "execution_count": 113,
   "metadata": {},
   "outputs": [
    {
     "data": {
      "text/plain": [
       "'xlsx'"
      ]
     },
     "execution_count": 113,
     "metadata": {},
     "output_type": "execute_result"
    }
   ],
   "source": [
    "t[1]"
   ]
  },
  {
   "cell_type": "code",
   "execution_count": null,
   "metadata": {},
   "outputs": [],
   "source": []
  }
 ],
 "metadata": {
  "kernelspec": {
   "display_name": "Python 3",
   "language": "python",
   "name": "python3"
  },
  "language_info": {
   "codemirror_mode": {
    "name": "ipython",
    "version": 3
   },
   "file_extension": ".py",
   "mimetype": "text/x-python",
   "name": "python",
   "nbconvert_exporter": "python",
   "pygments_lexer": "ipython3",
   "version": "3.6.5"
  }
 },
 "nbformat": 4,
 "nbformat_minor": 2
}
