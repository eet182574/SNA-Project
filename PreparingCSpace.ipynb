{
 "cells": [
  {
   "cell_type": "markdown",
   "metadata": {},
   "source": [
    "# Prepare C Space"
   ]
  },
  {
   "cell_type": "markdown",
   "metadata": {},
   "source": [
    "Read BasicTable Excel File"
   ]
  },
  {
   "cell_type": "code",
   "execution_count": 221,
   "metadata": {},
   "outputs": [],
   "source": [
    "import xlrd \n",
    "loc = 'C:\\\\Users\\\\Parveen\\\\Documents\\\\SNAPROJECT\\\\Project\\\\BasicTable.xls'\n",
    "\n",
    "wb = xlrd.open_workbook(loc) \n",
    "sheet = wb.sheet_by_index(0) \n",
    "  \n",
    "# For row 0 and column 0 \n",
    "#print(sheet.cell_value(0, 0) )"
   ]
  },
  {
   "cell_type": "markdown",
   "metadata": {},
   "source": [
    "Identify number of rows"
   ]
  },
  {
   "cell_type": "code",
   "execution_count": 222,
   "metadata": {},
   "outputs": [
    {
     "name": "stdout",
     "output_type": "stream",
     "text": [
      "Number of Rows are : 14960\n"
     ]
    }
   ],
   "source": [
    "NumberOfRows = sheet.nrows\n",
    "print('Number of Rows are : ' + str(NumberOfRows))"
   ]
  },
  {
   "cell_type": "markdown",
   "metadata": {},
   "source": [
    "Look for unique bus numbers"
   ]
  },
  {
   "cell_type": "code",
   "execution_count": 223,
   "metadata": {},
   "outputs": [
    {
     "name": "stdout",
     "output_type": "stream",
     "text": [
      "1860\n"
     ]
    }
   ],
   "source": [
    "BusStops = []\n",
    "for i in range(NumberOfRows-1):\n",
    "    value = sheet.cell_value(i+1,1)\n",
    "    if value not in BusStops:\n",
    "        BusStops.append(value)\n",
    "#print(BusStops)\n",
    "print(len(BusStops))"
   ]
  },
  {
   "cell_type": "markdown",
   "metadata": {},
   "source": [
    "Collect all bus route numbers in which Unique bus stop appears"
   ]
  },
  {
   "cell_type": "code",
   "execution_count": 224,
   "metadata": {},
   "outputs": [],
   "source": [
    "BusStopsDict = {}\n",
    "for i in range(len(BusStops)):\n",
    "    temp = []\n",
    "    #print (BusStops[i])\n",
    "    for j in range(NumberOfRows-1):\n",
    "        value = sheet.cell_value(j+1,1)\n",
    "        if value == BusStops[i]:\n",
    "            #print(j+1+1,sheet.cell_value(j+1,0))\n",
    "            temp.append(sheet.cell_value(j+1,0))\n",
    "    BusStopsDict[BusStops[i]]=temp"
   ]
  },
  {
   "cell_type": "markdown",
   "metadata": {},
   "source": [
    "Collect all bus stops in which Unique bus route appears"
   ]
  },
  {
   "cell_type": "code",
   "execution_count": 225,
   "metadata": {},
   "outputs": [],
   "source": [
    "BusRoutesDict = {}\n",
    "temp = []\n",
    "for i in range(NumberOfRows-1):\n",
    "    value1 = sheet.cell_value(i+1,0)\n",
    "    #print(i,value1,sheet.cell_value(i+1,1))\n",
    "    if value1 in BusRoutesDict:\n",
    "        #print(\"Yes\")\n",
    "        temp = BusRoutesDict[value1] \n",
    "        temp.append(sheet.cell_value(i+1,1))\n",
    "        BusRoutesDict[value1] = temp\n",
    "    else:\n",
    "        #print(\"No\")\n",
    "        BusRoutesDict[value1] = [sheet.cell_value(i+1,1)]    "
   ]
  },
  {
   "cell_type": "markdown",
   "metadata": {},
   "source": [
    "Prepare an excel file where adjaceny matrix for C space will be stored"
   ]
  },
  {
   "cell_type": "code",
   "execution_count": 226,
   "metadata": {},
   "outputs": [],
   "source": [
    "import xlsxwriter \n",
    "workbook = xlsxwriter.Workbook('C:\\\\Users\\\\Parveen\\\\Documents\\\\SNAPROJECT\\\\Project\\\\CSpaceTable.xlsx')\n",
    "worksheet = workbook.add_worksheet() "
   ]
  },
  {
   "cell_type": "markdown",
   "metadata": {},
   "source": [
    "Just Prepare Header Names for top row and left column"
   ]
  },
  {
   "cell_type": "code",
   "execution_count": 227,
   "metadata": {},
   "outputs": [],
   "source": [
    "i = 0\n",
    "for key in BusRoutesDict.keys():\n",
    "    worksheet.write(0,i+1,key) \n",
    "    worksheet.write(i+1,0,key)\n",
    "    i += 1"
   ]
  },
  {
   "cell_type": "markdown",
   "metadata": {},
   "source": [
    "Prepare a Counter List counter_list that will hold counts of overlaping bus stops for each routes"
   ]
  },
  {
   "cell_type": "code",
   "execution_count": 228,
   "metadata": {},
   "outputs": [],
   "source": [
    "counter_list = []\n",
    "for row,row_stop_list in BusRoutesDict.items():\n",
    "    row_stops_set = set(row_stop_list)\n",
    "    for col,col_stop_list in BusRoutesDict.items():\n",
    "        col_stops_set = set(col_stop_list)\n",
    "        temp = len(col_stops_set.intersection(row_stops_set))\n",
    "        counter_list.append(temp)"
   ]
  },
  {
   "cell_type": "code",
   "execution_count": 229,
   "metadata": {},
   "outputs": [
    {
     "data": {
      "text/plain": [
       "(737, 737)"
      ]
     },
     "execution_count": 229,
     "metadata": {},
     "output_type": "execute_result"
    }
   ],
   "source": [
    "import numpy as np\n",
    "CommonBusStopsCountList = np.array((counter_list))\n",
    "CommonBusStopsCountArray = CommonBusStopsCountList.reshape((737,737))\n",
    "CommonBusStopsCountArray.shape"
   ]
  },
  {
   "cell_type": "code",
   "execution_count": 230,
   "metadata": {},
   "outputs": [],
   "source": [
    "import pandas as pd\n",
    "df = pd.read_excel('C:\\\\Users\\\\Parveen\\\\Documents\\\\SNAPROJECT\\\\Project\\\\CSpaceTable.xlsx')\n",
    "df2 = pd.DataFrame(B)\n",
    "df2.columns = df.columns[1:]\n",
    "df2.insert(0, \"\", df.columns[1:]) \n",
    "\n",
    "df2.to_csv('C:\\\\Users\\\\Parveen\\\\Documents\\\\SNAPROJECT\\\\Project\\\\C_base_table.csv',index = False)\n",
    "\n",
    "RowsCols = CommonBusStopsCountArray.shape\n",
    "\n",
    "B_diag_zero = np.multiply(B,1-np.eye(RowsCols[0]))\n",
    "df3 = pd.DataFrame(B_diag_zero)\n",
    "df3.columns = df.columns[1:]\n",
    "df3.insert(0, \"\", df.columns[1:]) \n",
    "\n",
    "df3.to_csv('C:\\\\Users\\\\Parveen\\\\Documents\\\\SNAPROJECT\\\\Project\\\\C_base_table_diag_zero.csv',index = False)"
   ]
  },
  {
   "cell_type": "markdown",
   "metadata": {},
   "source": [
    "import xlrd \n",
    "loc = 'C:\\\\Users\\\\Parveen\\\\Documents\\\\SNAPROJECT\\\\Project\\\\CSpaceTable.xlsx'\n",
    "\n",
    "wb = xlrd.open_workbook(loc) \n",
    "sheet = wb.sheet_by_index(0)"
   ]
  },
  {
   "cell_type": "markdown",
   "metadata": {},
   "source": [
    "Prepare Different C spaces like C10,C15,C20,..C50"
   ]
  },
  {
   "cell_type": "code",
   "execution_count": 231,
   "metadata": {},
   "outputs": [],
   "source": [
    "Threshold = 20\n",
    "CSpace = B_diag_zero > Threshold"
   ]
  },
  {
   "cell_type": "code",
   "execution_count": 232,
   "metadata": {},
   "outputs": [],
   "source": [
    "OnesArray = np.ones((RowsCols[0],RowsCols[0]), dtype=int)\n",
    "CSpace = np.multiply(OnesArray,CSpace)"
   ]
  },
  {
   "cell_type": "code",
   "execution_count": 233,
   "metadata": {},
   "outputs": [],
   "source": [
    "df4 = pd.read_excel('C:\\\\Users\\\\Parveen\\\\Documents\\\\SNAPROJECT\\\\Project\\\\CSpaceTable.xlsx')\n",
    "df4 = pd.DataFrame(CSpace)\n",
    "df4.columns = df.columns[1:]\n",
    "df4.insert(0, \"\", df.columns[1:]) \n",
    "filename = 'C:\\\\Users\\\\Parveen\\\\Documents\\\\SNAPROJECT\\\\Project\\\\CSpace' + str(Threshold) + '.csv'\n",
    "df4.to_csv(filename,index = False)"
   ]
  },
  {
   "cell_type": "code",
   "execution_count": null,
   "metadata": {},
   "outputs": [],
   "source": []
  },
  {
   "cell_type": "code",
   "execution_count": null,
   "metadata": {},
   "outputs": [],
   "source": []
  }
 ],
 "metadata": {
  "kernelspec": {
   "display_name": "Python 3",
   "language": "python",
   "name": "python3"
  },
  "language_info": {
   "codemirror_mode": {
    "name": "ipython",
    "version": 3
   },
   "file_extension": ".py",
   "mimetype": "text/x-python",
   "name": "python",
   "nbconvert_exporter": "python",
   "pygments_lexer": "ipython3",
   "version": "3.7.3"
  }
 },
 "nbformat": 4,
 "nbformat_minor": 2
}
