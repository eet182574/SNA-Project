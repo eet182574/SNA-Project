{
 "cells": [
  {
   "cell_type": "code",
   "execution_count": 7,
   "metadata": {},
   "outputs": [
    {
     "name": "stdout",
     "output_type": "stream",
     "text": [
      "405ASTL - Cluster\n"
     ]
    }
   ],
   "source": [
    "import xlrd \n",
    "import pyautogui\n",
    "loc = (\"E:\\Sem-3\\SNA\\Project\\\\remaininglist_part3.xlsx\") \n",
    "\n",
    "wb = xlrd.open_workbook(loc) \n",
    "sheet = wb.sheet_by_index(0) \n",
    "  \n",
    "# For row 0 and column 0 \n",
    "print(sheet.cell_value(0, 0) )"
   ]
  },
  {
   "cell_type": "code",
   "execution_count": 8,
   "metadata": {},
   "outputs": [
    {
     "name": "stdout",
     "output_type": "stream",
     "text": [
      "217\n"
     ]
    }
   ],
   "source": [
    "print(sheet.nrows) "
   ]
  },
  {
   "cell_type": "markdown",
   "metadata": {},
   "source": [
    "This section of code is for integer valued bus stope. For english valued bus stop code is written in next cell"
   ]
  },
  {
   "cell_type": "code",
   "execution_count": null,
   "metadata": {},
   "outputs": [],
   "source": [
    "for i in range(sheet.nrows): #(sheet.nrows):\n",
    "    value = str(int(sheet.cell_value(i,0)))\n",
    "    pyautogui.PAUSE = 10     # pause for 10 sec to go to working window\n",
    "    pyautogui.click(632,334) # click at this loc to make it select search field to be filled\n",
    "    pyautogui.PAUSE = 1     # pause for 1 sec \n",
    "    pyautogui.typewrite(value) # Enter value\n",
    "    pyautogui.PAUSE = 3        # pause for momentary\n",
    "    pyautogui.click(844,333)   # click on lens location\n",
    "    pyautogui.PAUSE = 20      # worth to wait for 20sec as data is downloading from internet\n",
    "    pyautogui.rightClick()    # once downloaded right click to get source code\n",
    "    pyautogui.click(910,537)  #  select save as option \n",
    "    pyautogui.rightClick()\n",
    "    pyautogui.click(973,388)\n",
    "    pyautogui.typewrite(value) # Enter name of file to be saved\n",
    "    pyautogui.click(606,497)  # click to save the file\n",
    "    pyautogui.click(471,20)   # close the source window\n",
    "    pyautogui.click(21,54)   # go to original dtc page\n",
    "    pyautogui.PAUSE = 20     # pause for 10 sec to go to working window\n",
    "    \n",
    "    \n",
    "    \n",
    "    "
   ]
  },
  {
   "cell_type": "markdown",
   "metadata": {},
   "source": [
    "For remianing enlish named letters"
   ]
  },
  {
   "cell_type": "code",
   "execution_count": 9,
   "metadata": {},
   "outputs": [
    {
     "ename": "KeyboardInterrupt",
     "evalue": "",
     "output_type": "error",
     "traceback": [
      "\u001b[1;31m---------------------------------------------------------------------------\u001b[0m",
      "\u001b[1;31mKeyboardInterrupt\u001b[0m                         Traceback (most recent call last)",
      "\u001b[1;32m<ipython-input-9-86fae2f61134>\u001b[0m in \u001b[0;36m<module>\u001b[1;34m()\u001b[0m\n\u001b[0;32m      9\u001b[0m     \u001b[0mpyautogui\u001b[0m\u001b[1;33m.\u001b[0m\u001b[0mPAUSE\u001b[0m \u001b[1;33m=\u001b[0m \u001b[1;36m20\u001b[0m      \u001b[1;31m# worth to wait for 20sec as data is downloading from internet\u001b[0m\u001b[1;33m\u001b[0m\u001b[0m\n\u001b[0;32m     10\u001b[0m     \u001b[0mpyautogui\u001b[0m\u001b[1;33m.\u001b[0m\u001b[0mrightClick\u001b[0m\u001b[1;33m(\u001b[0m\u001b[1;33m)\u001b[0m    \u001b[1;31m# once downloaded right click to get source code\u001b[0m\u001b[1;33m\u001b[0m\u001b[0m\n\u001b[1;32m---> 11\u001b[1;33m     \u001b[0mpyautogui\u001b[0m\u001b[1;33m.\u001b[0m\u001b[0mclick\u001b[0m\u001b[1;33m(\u001b[0m\u001b[1;36m910\u001b[0m\u001b[1;33m,\u001b[0m\u001b[1;36m537\u001b[0m\u001b[1;33m)\u001b[0m  \u001b[1;31m#  select save as option\u001b[0m\u001b[1;33m\u001b[0m\u001b[0m\n\u001b[0m\u001b[0;32m     12\u001b[0m     \u001b[0mpyautogui\u001b[0m\u001b[1;33m.\u001b[0m\u001b[0mrightClick\u001b[0m\u001b[1;33m(\u001b[0m\u001b[1;33m)\u001b[0m\u001b[1;33m\u001b[0m\u001b[0m\n\u001b[0;32m     13\u001b[0m     \u001b[0mpyautogui\u001b[0m\u001b[1;33m.\u001b[0m\u001b[0mclick\u001b[0m\u001b[1;33m(\u001b[0m\u001b[1;36m973\u001b[0m\u001b[1;33m,\u001b[0m\u001b[1;36m388\u001b[0m\u001b[1;33m)\u001b[0m\u001b[1;33m\u001b[0m\u001b[0m\n",
      "\u001b[1;32m~\\Anaconda3\\lib\\site-packages\\pyautogui\\__init__.py\u001b[0m in \u001b[0;36mclick\u001b[1;34m(x, y, clicks, interval, button, duration, tween, pause, _pause)\u001b[0m\n\u001b[0;32m    372\u001b[0m         \u001b[0mtime\u001b[0m\u001b[1;33m.\u001b[0m\u001b[0msleep\u001b[0m\u001b[1;33m(\u001b[0m\u001b[0minterval\u001b[0m\u001b[1;33m)\u001b[0m\u001b[1;33m\u001b[0m\u001b[0m\n\u001b[0;32m    373\u001b[0m \u001b[1;33m\u001b[0m\u001b[0m\n\u001b[1;32m--> 374\u001b[1;33m     \u001b[0m_autoPause\u001b[0m\u001b[1;33m(\u001b[0m\u001b[0mpause\u001b[0m\u001b[1;33m,\u001b[0m \u001b[0m_pause\u001b[0m\u001b[1;33m)\u001b[0m\u001b[1;33m\u001b[0m\u001b[0m\n\u001b[0m\u001b[0;32m    375\u001b[0m \u001b[1;33m\u001b[0m\u001b[0m\n\u001b[0;32m    376\u001b[0m \u001b[1;32mdef\u001b[0m \u001b[0mrightClick\u001b[0m\u001b[1;33m(\u001b[0m\u001b[0mx\u001b[0m\u001b[1;33m=\u001b[0m\u001b[1;32mNone\u001b[0m\u001b[1;33m,\u001b[0m \u001b[0my\u001b[0m\u001b[1;33m=\u001b[0m\u001b[1;32mNone\u001b[0m\u001b[1;33m,\u001b[0m \u001b[0mduration\u001b[0m\u001b[1;33m=\u001b[0m\u001b[1;36m0.0\u001b[0m\u001b[1;33m,\u001b[0m \u001b[0mtween\u001b[0m\u001b[1;33m=\u001b[0m\u001b[0mlinear\u001b[0m\u001b[1;33m,\u001b[0m \u001b[0mpause\u001b[0m\u001b[1;33m=\u001b[0m\u001b[1;32mNone\u001b[0m\u001b[1;33m,\u001b[0m \u001b[0m_pause\u001b[0m\u001b[1;33m=\u001b[0m\u001b[1;32mTrue\u001b[0m\u001b[1;33m)\u001b[0m\u001b[1;33m:\u001b[0m\u001b[1;33m\u001b[0m\u001b[0m\n",
      "\u001b[1;32m~\\Anaconda3\\lib\\site-packages\\pyautogui\\__init__.py\u001b[0m in \u001b[0;36m_autoPause\u001b[1;34m(pause, _pause)\u001b[0m\n\u001b[0;32m    162\u001b[0m             \u001b[0mtime\u001b[0m\u001b[1;33m.\u001b[0m\u001b[0msleep\u001b[0m\u001b[1;33m(\u001b[0m\u001b[0mpause\u001b[0m\u001b[1;33m)\u001b[0m\u001b[1;33m\u001b[0m\u001b[0m\n\u001b[0;32m    163\u001b[0m         \u001b[1;32melif\u001b[0m \u001b[0mPAUSE\u001b[0m \u001b[1;33m!=\u001b[0m \u001b[1;36m0\u001b[0m\u001b[1;33m:\u001b[0m\u001b[1;33m\u001b[0m\u001b[0m\n\u001b[1;32m--> 164\u001b[1;33m             \u001b[0mtime\u001b[0m\u001b[1;33m.\u001b[0m\u001b[0msleep\u001b[0m\u001b[1;33m(\u001b[0m\u001b[0mPAUSE\u001b[0m\u001b[1;33m)\u001b[0m\u001b[1;33m\u001b[0m\u001b[0m\n\u001b[0m\u001b[0;32m    165\u001b[0m \u001b[1;33m\u001b[0m\u001b[0m\n\u001b[0;32m    166\u001b[0m \u001b[1;33m\u001b[0m\u001b[0m\n",
      "\u001b[1;31mKeyboardInterrupt\u001b[0m: "
     ]
    }
   ],
   "source": [
    "for i in range(sheet.nrows): #(sheet.nrows):\n",
    "    value = sheet.cell_value(i,0)\n",
    "    pyautogui.PAUSE = 10     # pause for 10 sec to go to working window\n",
    "    pyautogui.click(632,334) # click at this loc to make it select search field to be filled\n",
    "    pyautogui.PAUSE = 1     # pause for 1 sec \n",
    "    pyautogui.typewrite(value) # Enter value\n",
    "    pyautogui.PAUSE = 3        # pause for momentary\n",
    "    pyautogui.click(844,333)   # click on lens location\n",
    "    pyautogui.PAUSE = 20      # worth to wait for 20sec as data is downloading from internet\n",
    "    pyautogui.rightClick()    # once downloaded right click to get source code\n",
    "    pyautogui.click(910,537)  #  select save as option \n",
    "    pyautogui.rightClick()\n",
    "    pyautogui.click(973,388)\n",
    "    pyautogui.typewrite(value) # Enter name of file to be saved\n",
    "    pyautogui.click(606,497)  # click to save the file\n",
    "    pyautogui.click(471,20)   # close the source window\n",
    "    pyautogui.click(21,54)   # go to original dtc page\n",
    "    pyautogui.PAUSE = 20     # pause for 10 sec to go to working window\n",
    "    \n",
    "    \n",
    "    \n",
    "    "
   ]
  },
  {
   "cell_type": "code",
   "execution_count": null,
   "metadata": {},
   "outputs": [],
   "source": [
    "pyautogui.position()"
   ]
  },
  {
   "cell_type": "code",
   "execution_count": null,
   "metadata": {},
   "outputs": [],
   "source": [
    "pyautogui.moveTo(608,333) "
   ]
  },
  {
   "cell_type": "code",
   "execution_count": null,
   "metadata": {},
   "outputs": [],
   "source": [
    "pyautogui.position()"
   ]
  },
  {
   "cell_type": "code",
   "execution_count": null,
   "metadata": {},
   "outputs": [],
   "source": [
    "pyautogui.PAUSE = 10\n",
    "pyautogui.click(844,333)"
   ]
  },
  {
   "cell_type": "code",
   "execution_count": null,
   "metadata": {},
   "outputs": [],
   "source": [
    "pyautogui.typewrite('102')"
   ]
  },
  {
   "cell_type": "code",
   "execution_count": null,
   "metadata": {},
   "outputs": [],
   "source": [
    "name"
   ]
  },
  {
   "cell_type": "code",
   "execution_count": null,
   "metadata": {},
   "outputs": [],
   "source": [
    "i"
   ]
  },
  {
   "cell_type": "code",
   "execution_count": null,
   "metadata": {},
   "outputs": [],
   "source": []
  }
 ],
 "metadata": {
  "kernelspec": {
   "display_name": "Python 3",
   "language": "python",
   "name": "python3"
  },
  "language_info": {
   "codemirror_mode": {
    "name": "ipython",
    "version": 3
   },
   "file_extension": ".py",
   "mimetype": "text/x-python",
   "name": "python",
   "nbconvert_exporter": "python",
   "pygments_lexer": "ipython3",
   "version": "3.6.5"
  }
 },
 "nbformat": 4,
 "nbformat_minor": 2
}
